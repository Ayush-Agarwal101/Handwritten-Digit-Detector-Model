{
  "cells": [
    {
      "cell_type": "code",
      "execution_count": null,
      "id": "1b9f584b",
      "metadata": {},
      "outputs": [],
      "source": [
        "# 📂 Dataset Download Link (Required to run this notebook):\n",
        "# https://www.kaggle.com/datasets/oddrationale/mnist-in-csv"
      ]
    },
    {
      "cell_type": "code",
      "execution_count": null,
      "id": "a0487d60-267e-457f-b872-b7b817f95f09",
      "metadata": {
        "id": "a0487d60-267e-457f-b872-b7b817f95f09"
      },
      "outputs": [],
      "source": [
        "# Uncomment the below line if running for the first time\n",
        "\n",
        "# %pip install pandas numpy matplotlib pillow\n",
        "\n",
        "import pandas as pd\n",
        "import numpy as np\n",
        "%matplotlib inline\n",
        "import matplotlib.pyplot as plt\n",
        "from PIL import Image\n",
        "from IPython.display import display"
      ]
    },
    {
      "cell_type": "code",
      "execution_count": null,
      "id": "13627eed",
      "metadata": {
        "id": "13627eed"
      },
      "outputs": [],
      "source": [
        "# Functions\n",
        "def relu(x):\n",
        "    return np.maximum(0, x)\n",
        "\n",
        "def relu_derivative(x):\n",
        "    return (x > 0).astype(float)\n",
        "\n",
        "def softmax(x):\n",
        "    exps = np.exp(x - np.max(x, axis=1, keepdims=True))\n",
        "    return exps / exps.sum(axis=1, keepdims=True)\n",
        "\n",
        "def cross_entropy_loss(y_true, y_pred):\n",
        "    epsilon = 1e-12  # to avoid log(0)\n",
        "    y_pred = np.clip(y_pred, epsilon, 1. - epsilon)\n",
        "    return -np.mean(np.sum(y_true * np.log(y_pred), axis=1))"
      ]
    },
    {
      "cell_type": "code",
      "execution_count": null,
      "id": "2066e5bf",
      "metadata": {
        "id": "2066e5bf"
      },
      "outputs": [],
      "source": [
        "# Layer Class\n",
        "class Layer:\n",
        "    def __init__(self, number, size):\n",
        "        self._number = number\n",
        "        self._size = size\n",
        "        self._data = None\n",
        "\n",
        "    @property\n",
        "    def number(self):\n",
        "        return self._number\n",
        "\n",
        "    @property\n",
        "    def size(self):\n",
        "        return self._size\n",
        "\n",
        "    @property\n",
        "    def data(self):\n",
        "        return self._data\n",
        "\n",
        "    @data.setter\n",
        "    def data(self, new_data):\n",
        "        if new_data.shape[1] == self._size:\n",
        "            self._data = new_data\n",
        "        else:\n",
        "            raise ValueError(\"Shape mismatch while setting layer data.\")"
      ]
    },
    {
      "cell_type": "code",
      "execution_count": null,
      "id": "1b8236ec",
      "metadata": {
        "id": "1b8236ec"
      },
      "outputs": [],
      "source": [
        "# Weight Class\n",
        "class Weight:\n",
        "    def __init__(self, from_layer, to_layer):\n",
        "        self._value = np.random.randn(from_layer.size, to_layer.size) * np.sqrt(2. / from_layer.size)\n",
        "\n",
        "    @property\n",
        "    def value(self):\n",
        "        return self._value\n",
        "\n",
        "    @value.setter\n",
        "    def value(self, new_value):\n",
        "        if new_value.shape == self._value.shape:\n",
        "            self._value = new_value\n",
        "        else:\n",
        "            raise ValueError(\"Shape mismatch while setting weight value.\")\n",
        "\n",
        "# Bias Class\n",
        "class Bias:\n",
        "    def __init__(self, to_layer):\n",
        "        self._value = np.zeros((1, to_layer.size), dtype=np.float32)\n",
        "\n",
        "    @property\n",
        "    def value(self):\n",
        "        return self._value\n",
        "\n",
        "    @value.setter\n",
        "    def value(self, new_value):\n",
        "        if new_value.shape == self._value.shape:\n",
        "            self._value = new_value\n",
        "        else:\n",
        "            raise ValueError(\"Shape mismatch while setting bias value.\")"
      ]
    },
    {
      "cell_type": "code",
      "execution_count": 63,
      "id": "64eb85a6",
      "metadata": {
        "id": "64eb85a6"
      },
      "outputs": [],
      "source": [
        "# Neural Network Class\n",
        "class NN:\n",
        "    def __init__(self, learning_rate=0.01):\n",
        "\n",
        "        self._learning_rate = learning_rate\n",
        "        self._layers = []\n",
        "        self._weights = []\n",
        "        self._biases = []\n",
        "        self._deltas = []\n",
        "        self._zs = []\n",
        "        self._djdw = []\n",
        "        self._djdb = []\n",
        "        self._activation = None\n",
        "\n",
        "    def add_layer(self, layer):\n",
        "        self._layers.append(layer)\n",
        "        if len(self._layers) > 1:\n",
        "            self._weights.append(Weight(self._layers[-2], self._layers[-1]))\n",
        "            self._biases.append(Bias(self._layers[-1]))\n",
        "\n",
        "    def forward(self):\n",
        "        self._zs = [None] * len(self._layers)\n",
        "        for i in range(1, len(self._layers)):\n",
        "\n",
        "            prev_data = self._layers[i-1].data\n",
        "            w = self._weights[i-1].value\n",
        "            b = self._biases[i-1].value\n",
        "\n",
        "            z = np.dot(prev_data, w) + b\n",
        "            self._zs[i] = z\n",
        "\n",
        "            if i == len(self._layers) - 1:\n",
        "              activated = softmax(z)\n",
        "            else:\n",
        "              activated = relu(z)\n",
        "\n",
        "            self._layers[i].data = activated\n",
        "\n",
        "    @property\n",
        "    def output(self):\n",
        "        return self._layers[-1].data\n",
        "\n",
        "    @property\n",
        "    def delta(self):\n",
        "        return self._deltas\n",
        "\n",
        "    @delta.setter\n",
        "    def backpropagation(self, target):\n",
        "        self._deltas = [None] * len(self._layers)\n",
        "        self._djdw = [None] * len(self._weights)\n",
        "        self._djdb = [None] * len(self._biases)\n",
        "\n",
        "        output = self._layers[-1].data\n",
        "        z_last = self._zs[-1]\n",
        "        if z_last is None:\n",
        "            raise ValueError(\"Last layer is None. Ensure forward() is called before setting delta.\")\n",
        "        self._deltas[-1] = (output - target)\n",
        "\n",
        "        for i in range(len(self._layers) - 2, 0, -1):\n",
        "            next_w = self._weights[i].value\n",
        "            next_delta = self._deltas[i + 1]\n",
        "            z = self._zs[i]\n",
        "            self._deltas[i] = np.dot(next_delta, next_w.T) * relu_derivative(z)\n",
        "\n",
        "        # djdw and djdb calculation\n",
        "        for i in range(len(self._weights)):\n",
        "            a_prev = self._layers[i].data\n",
        "            delta_curr = self._deltas[i + 1]\n",
        "            self._djdw[i] = np.dot(a_prev.T, delta_curr)\n",
        "            self._djdb[i] = np.sum(delta_curr, axis=0, keepdims=True)\n",
        "    @property\n",
        "    def djdw(self):\n",
        "        return self._djdw\n",
        "\n",
        "    @property\n",
        "    def djdb(self):\n",
        "        return self._djdb\n",
        "\n",
        "    def update(self):\n",
        "      clip_value = 1.0\n",
        "      for i in range(len(self._weights)):\n",
        "        # Clip gradients\n",
        "        self._djdw[i] = np.clip(self._djdw[i], -clip_value, clip_value)\n",
        "        self._djdb[i] = np.clip(self._djdb[i], -clip_value, clip_value)\n",
        "\n",
        "        # Apply updates\n",
        "        self._weights[i].value -= self._learning_rate * self._djdw[i]\n",
        "        self._biases[i].value -= self._learning_rate * self._djdb[i]\n",
        "\n"
      ]
    },
    {
      "cell_type": "code",
      "execution_count": 64,
      "id": "e569a083",
      "metadata": {
        "id": "e569a083"
      },
      "outputs": [],
      "source": [
        "# Load Dataset\n",
        "file_name = 'mnist_train.csv'\n",
        "df = pd.read_csv(file_name)\n",
        "\n",
        "labels = df['label'].values\n",
        "pixels = df.drop('label', axis=1).values.astype(np.uint8)"
      ]
    },
    {
      "cell_type": "code",
      "execution_count": null,
      "id": "5cdc74be",
      "metadata": {
        "id": "5cdc74be"
      },
      "outputs": [],
      "source": [
        "# Input Batch Setup\n",
        "\n",
        "n = len(labels)\n",
        "idxs = list(range(n))\n",
        "\n"
      ]
    },
    {
      "cell_type": "code",
      "execution_count": null,
      "id": "6c03516d",
      "metadata": {},
      "outputs": [],
      "source": [
        "# (If you want to take small batch of inputs(in case you don't run on gpu), comment out above block of code and uncomment this below code)\n",
        "\n",
        "# # For Small Batch Input\n",
        "# n = int(input(\"Enter the batch size of images : \"))\n",
        "# max_idx = len(labels) - 1\n",
        "# if not (0 <= n <= max_idx):\n",
        "#     raise ValueError(f\"Batch size exceeded the original size. Must be between 0 and {max_idx}.\")\n",
        "# idxs = list(range(n))\n"
      ]
    },
    {
      "cell_type": "code",
      "execution_count": 66,
      "id": "d3962c29",
      "metadata": {
        "id": "d3962c29"
      },
      "outputs": [],
      "source": [
        "# # Display All Images(Only uncomment if taking a small batch of input and want to see the images)\n",
        "\n",
        "# for idx in idxs:\n",
        "#     print(f\"{idx+1}. Label: {labels[idx]}\")\n",
        "#     display(Image.fromarray(pixels[idx].reshape(28, 28), mode='L'))\n"
      ]
    },
    {
      "cell_type": "code",
      "execution_count": 67,
      "id": "ee3d6018",
      "metadata": {
        "id": "ee3d6018"
      },
      "outputs": [],
      "source": [
        "# Normalize and Prepare Input Batch\n",
        "images = pixels[idxs].astype(np.float32) / 255.0\n",
        "targets = np.zeros((n, 10), dtype=np.float32)\n",
        "for i in range(n):\n",
        "    targets[i, labels[idxs[i]]] = 1\n",
        "\n",
        "# Initialise Network\n",
        "net = NN()\n",
        "input_layer = Layer(1, 784)\n",
        "input_layer.data = images\n",
        "net.add_layer(input_layer)\n",
        "\n",
        "net.add_layer(Layer(2, 107))\n",
        "net.add_layer(Layer(3, 26))\n",
        "net.add_layer(Layer(4, 10))\n",
        "\n",
        "track_cost = []"
      ]
    },
    {
      "cell_type": "code",
      "execution_count": 68,
      "id": "a3804bcf",
      "metadata": {
        "colab": {
          "base_uri": "https://localhost:8080/"
        },
        "id": "a3804bcf",
        "outputId": "60add0ce-2e4e-4ec6-c92b-f14abb8ed804"
      },
      "outputs": [
        {
          "name": "stdout",
          "output_type": "stream",
          "text": [
            "Training Round 1/200 - Cost: 24.956576\n",
            "Training Round 25/200 - Cost: 11.322056\n",
            "Training Round 50/200 - Cost: 7.214183\n",
            "Training Round 75/200 - Cost: 6.361878\n",
            "Training Round 100/200 - Cost: 4.877589\n",
            "Training Round 125/200 - Cost: 4.192349\n",
            "Training Round 150/200 - Cost: 3.510022\n",
            "Training Round 175/200 - Cost: 3.213897\n",
            "Training Round 199/200 - Cost: 3.221085\n",
            "Training Round 200/200 - Cost: 3.676167\n"
          ]
        }
      ],
      "source": [
        "# Training the Network\n",
        "training_rounds = 200\n",
        "\n",
        "for i in range(training_rounds):\n",
        "    net.forward()\n",
        "\n",
        "    # Delta Calculation\n",
        "    net.backpropagation = targets\n",
        "\n",
        "    # Update Weights and Biases\n",
        "    net.update()\n",
        "\n",
        "    # Track Cost\n",
        "    current_cost = cross_entropy_loss(net.output, targets)\n",
        "    track_cost.append(current_cost)\n",
        "\n",
        "    # Print progress every 25 training rounds\n",
        "    if (i + 1) % 25 == 0 or i == 0 or i == training_rounds-2:\n",
        "        print(f\"Training Round {i + 1}/{training_rounds} - Cost: {current_cost:.6f}\")"
      ]
    },
    {
      "cell_type": "code",
      "execution_count": null,
      "id": "66bad5b7",
      "metadata": {
        "id": "66bad5b7"
      },
      "outputs": [],
      "source": [
        "# For printing deltas, djdw, and djdb (Only uncomment if you are taking very small batch input size or want to see these values)\n",
        "\n",
        "# # Print Delta for each layer\n",
        "# print(\"Delta for each layer:\")\n",
        "# for i, d in enumerate(net.delta):\n",
        "#     if d is not None:\n",
        "#         print(f\"Layer {i} Delta:\\n{d}\\n\")\n",
        "\n",
        "# # Print dJdW\n",
        "# print(\"dJdW Calculation:\")\n",
        "# for i, grad in enumerate(net.djdw):\n",
        "#     print(f\"dJ/dW for Layer {i} → {i+1}:\\n{grad}\\n\")\n",
        "\n",
        "# # Print dJdB\n",
        "# print(\"dJdB Calculation:\")\n",
        "# for i, grad in enumerate(net.djdb):\n",
        "#     print(f\"dJ/db for Layer {i} → {i+1}:\\n{grad}\\n\")\n"
      ]
    },
    {
      "cell_type": "code",
      "execution_count": null,
      "id": "282d18c3",
      "metadata": {
        "colab": {
          "base_uri": "https://localhost:8080/",
          "height": 472
        },
        "id": "282d18c3",
        "outputId": "7d8735d8-9d68-401e-813b-c8462e9bb25c"
      },
      "outputs": [
        {
          "data": {
            "image/png": "[encoded data removed]",
            "text/plain": [
              "<Figure size 640x480 with 1 Axes>"
            ]
          },
          "metadata": {},
          "output_type": "display_data"
        }
      ],
      "source": [
        "# Plotting the Cost Function\n",
        "plt.plot(range(training_rounds),track_cost)\n",
        "plt.xlabel('Training Rounds')\n",
        "plt.ylabel('Cost')\n",
        "plt.title('Cost vs Training Rounds')\n",
        "plt.grid(True)\n",
        "plt.show()"
      ]
    },
    {
      "cell_type": "code",
      "execution_count": 71,
      "id": "b18c22b9",
      "metadata": {
        "id": "b18c22b9"
      },
      "outputs": [],
      "source": [
        "# Uncomment if you want to see the predicted and actual digits after training\n",
        "\n",
        "# # Predicted Digits\n",
        "# predictions = np.argmax(net.output, axis=1)\n",
        "# print(\"Predicted Digits: \\n\", predictions)\n",
        "\n",
        "# # Actual Digits/Labels\n",
        "# actual_labels = np.argmax(targets, axis=1)\n",
        "# print(\"Actual Digits:\\n\", actual_labels)\n"
      ]
    },
    {
      "cell_type": "code",
      "execution_count": 72,
      "id": "5f700ce4",
      "metadata": {
        "colab": {
          "base_uri": "https://localhost:8080/"
        },
        "id": "5f700ce4",
        "outputId": "6d75ae42-54c2-4fb6-a9e2-201807627c16"
      },
      "outputs": [
        {
          "name": "stdout",
          "output_type": "stream",
          "text": [
            "Final Cost after training:  3.346333976623137\n"
          ]
        }
      ],
      "source": [
        "# Final Forward Pass\n",
        "net.forward()\n",
        "\n",
        "# Final Cost\n",
        "final_cost = cross_entropy_loss(net.output, targets)\n",
        "print(\"Final Cost after training: \", final_cost)"
      ]
    },
    {
      "cell_type": "code",
      "execution_count": 73,
      "id": "5621f426",
      "metadata": {
        "id": "5621f426"
      },
      "outputs": [],
      "source": [
        "# Testing The Network Model\n",
        "\n",
        "test_file_name = 'mnist_test.csv'\n",
        "df_test = pd.read_csv(test_file_name)\n",
        "\n",
        "test_labels = df_test['label'].values\n",
        "test_pixels = df_test.drop('label', axis=1).values.astype(np.uint8)\n",
        "\n",
        "test_n = len(test_labels)\n",
        "test_idxs = list(range(test_n))\n",
        "\n",
        "# Prepare Test Input Batch\n",
        "test_images = test_pixels[test_idxs].astype(np.float32) / 255.0\n",
        "test_targets = np.zeros((test_n, 10), dtype=np.float32)\n",
        "for i in range(test_n):\n",
        "    test_targets[i, test_labels[test_idxs[i]]] = 1\n",
        "\n",
        "# Set test images as input\n",
        "input_layer.data = test_images\n",
        "\n",
        "# Forward pass on test data\n",
        "net.forward()\n",
        "\n",
        "# Get predictions\n",
        "predictions = np.argmax(net.output, axis=1)\n",
        "actual_labels = test_labels"
      ]
    },
    {
      "cell_type": "code",
      "execution_count": 74,
      "id": "bd214905",
      "metadata": {
        "colab": {
          "base_uri": "https://localhost:8080/"
        },
        "id": "bd214905",
        "outputId": "c44828a4-d1d7-4ebf-fadb-31c17372d187"
      },
      "outputs": [
        {
          "name": "stdout",
          "output_type": "stream",
          "text": [
            "Tested on 10000 images.\n",
            "Accuracy: 88.88% (8888/10000)\n"
          ]
        }
      ],
      "source": [
        "# Calculate accuracy\n",
        "correct = np.sum(predictions == actual_labels)\n",
        "accuracy = correct / test_n * 100\n",
        "\n",
        "print(f\"Tested on {test_n} images.\")\n",
        "print(f\"Accuracy: {accuracy:.2f}% ({correct}/{test_n})\")"
      ]
    }
  ],
  "metadata": {
    "accelerator": "GPU",
    "colab": {
      "gpuType": "T4",
      "provenance": []
    },
    "kernelspec": {
      "display_name": "Python 3",
      "name": "python3"
    },
    "language_info": {
      "codemirror_mode": {
        "name": "ipython",
        "version": 3
      },
      "file_extension": ".py",
      "mimetype": "text/x-python",
      "name": "python",
      "nbconvert_exporter": "python",
      "pygments_lexer": "ipython3",
      "version": "3.11.9"
    }
  },
  "nbformat": 4,
  "nbformat_minor": 5
}
