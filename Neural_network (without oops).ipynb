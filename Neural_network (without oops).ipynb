{
 "cells": [
  {
   "cell_type": "code",
   "execution_count": 1,
   "id": "a0487d60-267e-457f-b872-b7b817f95f09",
   "metadata": {},
   "outputs": [
    {
     "data": {
      "image/jpeg": "[encoded data removed]",
      "image/png": "[encoded data removed]",
      "text/plain": [
       "<PIL.Image.Image image mode=L size=28x28>"
      ]
     },
     "metadata": {},
     "output_type": "display_data"
    },
    {
     "name": "stdout",
     "output_type": "stream",
     "text": [
      "Label: 1\n"
     ]
    }
   ],
   "source": [
    "import pandas as pd\n",
    "import numpy as np\n",
    "from PIL import Image\n",
    "from IPython.display import display\n",
    "\n",
    "# 1. Load the CSV file\n",
    "file_name = 'mnist_test.csv'\n",
    "df = pd.read_csv(file_name)\n",
    "\n",
    "# 2. Separate labels and pixel values\n",
    "labels = df['label'].values\n",
    "pixels = df.drop('label', axis=1).values.astype(np.uint8)\n",
    "\n",
    "# 3. Ask the user to enter an index\n",
    "max_idx = len(labels) - 1\n",
    "idx = int(input(f\"Enter image index (0 to {max_idx}): \"))\n",
    "\n",
    "# Validate the index\n",
    "if not (0 <= idx <= max_idx):\n",
    "    raise ValueError(f\"Index out of range. Must be between 0 and {max_idx}.\")\n",
    "\n",
    "# 4. Reshape pixel data and display image\n",
    "img_array = pixels[idx].reshape(28, 28)\n",
    "img = Image.fromarray(img_array, mode='L')\n",
    "display(img)\n",
    "\n",
    "# 5. Print the label\n",
    "print(\"Label:\", labels[idx])\n"
   ]
  },
  {
   "cell_type": "code",
   "execution_count": 2,
   "id": "1c7abc4b-5305-4938-85bd-d835a658c600",
   "metadata": {},
   "outputs": [
    {
     "name": "stdout",
     "output_type": "stream",
     "text": [
      "[  0   0   0   0   0   0   0   0   0   0   0   0   0   0   0   0   0   0\n",
      "   0   0   0   0   0   0   0   0   0   0   0   0   0   0   0   0   0   0\n",
      "   0   0   0   0   0   0   0   0   0   0   0   0   0   0   0   0   0   0\n",
      "   0   0   0   0   0   0   0   0   0   0   0   0   0   0   0   0   0   0\n",
      "   0   0   0   0   0   0   0   0   0   0   0   0   0   0   0   0   0   0\n",
      "   0   0   0   0   0   0   0   0   0   0   0   0   0   0   0   0   0   0\n",
      "   0   0   0   0   0   0   0   0   0   0   0   0   0   0   0   0   0   0\n",
      "   0   0   0   0   0   0   0   0   0   0   0   0   0   0   0   0   0   0\n",
      "   0   0   0   0   0   0   0   0   0   0   0   0  77 254 107   3   0   0\n",
      "   0   0   0   0   0   0   0   0   0   0   0   0   0   0   0   0   0   0\n",
      "   0   0   0  19 227 254 254   9   0   0   0   0   0   0   0   0   0   0\n",
      "   0   0   0   0   0   0   0   0   0   0   0   0   0  81 254 254 165   1\n",
      "   0   0   0   0   0   0   0   0   0   0   0   0   0   0   0   0   0   0\n",
      "   0   0   0   0   7 203 254 254  73   0   0   0   0   0   0   0   0   0\n",
      "   0   0   0   0   0   0   0   0   0   0   0   0   0   0  53 254 254 250\n",
      "   0   0   0   0   0   0   0   0   0   0   0   0   0   0   0   0   0   0\n",
      "   0   0   0   0   0   0 134 254 254 180   0   0   0   0   0   0   0   0\n",
      "   0   0   0   0   0   0   0   0   0   0   0   0   0   0   0   0 196 254\n",
      " 248  48   0   0   0   0   0   0   0   0   0   0   0   0   0   0   0   0\n",
      "   0   0   0   0   0   0   0  58 254 254 237   0   0   0   0   0   0   0\n",
      "   0   0   0   0   0   0   0   0   0   0   0   0   0   0   0   0   0 111\n",
      " 254 254 132   0   0   0   0   0   0   0   0   0   0   0   0   0   0   0\n",
      "   0   0   0   0   0   0   0   0   0 163 254 238  28   0   0   0   0   0\n",
      "   0   0   0   0   0   0   0   0   0   0   0   0   0   0   0   0   0   0\n",
      "  60 252 254 223   0   0   0   0   0   0   0   0   0   0   0   0   0   0\n",
      "   0   0   0   0   0   0   0   0   0   0  79 254 254 154   0   0   0   0\n",
      "   0   0   0   0   0   0   0   0   0   0   0   0   0   0   0   0   0   0\n",
      "   0   0 163 254 238  53   0   0   0   0   0   0   0   0   0   0   0   0\n",
      "   0   0   0   0   0   0   0   0   0   0   0  28 252 254 210   0   0   0\n",
      "   0   0   0   0   0   0   0   0   0   0   0   0   0   0   0   0   0   0\n",
      "   0   0   0  86 254 254 131   0   0   0   0   0   0   0   0   0   0   0\n",
      "   0   0   0   0   0   0   0   0   0   0   0   0   0 105 254 234  20   0\n",
      "   0   0   0   0   0   0   0   0   0   0   0   0   0   0   0   0   0   0\n",
      "   0   0   0   0   0 175 254 204   5   0   0   0   0   0   0   0   0   0\n",
      "   0   0   0   0   0   0   0   0   0   0   0   0   0   0   5 211 254 196\n",
      "   0   0   0   0   0   0   0   0   0   0   0   0   0   0   0   0   0   0\n",
      "   0   0   0   0   0   0   3 158 254 160   0   0   0   0   0   0   0   0\n",
      "   0   0   0   0   0   0   0   0   0   0   0   0   0   0   0   0   0  26\n",
      " 157 107   0   0   0   0   0   0   0   0   0   0   0   0   0   0   0   0\n",
      "   0   0   0   0   0   0   0   0   0   0   0   0   0   0   0   0   0   0\n",
      "   0   0   0   0   0   0   0   0   0   0   0   0   0   0   0   0   0   0\n",
      "   0   0   0   0   0   0   0   0   0   0   0   0   0   0   0   0   0   0\n",
      "   0   0   0   0   0   0   0   0   0   0   0   0   0   0   0   0   0   0\n",
      "   0   0   0   0   0   0   0   0   0   0]\n"
     ]
    }
   ],
   "source": [
    "image = pixels[idx].reshape(1, 784)\n",
    "print(image[0])"
   ]
  },
  {
   "cell_type": "code",
   "execution_count": 3,
   "id": "b2d50804-938b-48f9-b31b-78436111368d",
   "metadata": {},
   "outputs": [],
   "source": [
    "def sigmoid(x):\n",
    "    return 1 / (1 + np.exp(-x))"
   ]
  },
  {
   "cell_type": "code",
   "execution_count": 4,
   "id": "e223f9f1-9f88-4f9e-8231-38ba73025494",
   "metadata": {},
   "outputs": [
    {
     "name": "stdout",
     "output_type": "stream",
     "text": [
      " Predicted Digit: 7\n"
     ]
    }
   ],
   "source": [
    "layer1 = image / 255.0\n",
    "\n",
    "w1 = np.random.randn(784, 107).astype(np.float32)\n",
    "b1 = np.random.randn(1, 107).astype(np.float32)\n",
    "\n",
    "w2 = np.random.randn(107, 26).astype(np.float32)\n",
    "b2 = np.random.randn(1, 26).astype(np.float32)\n",
    "\n",
    "w3 = np.random.randn(26, 10).astype(np.float32)\n",
    "b3 = np.random.randn(1, 10).astype(np.float32)\n",
    "\n",
    "z2 = np.dot(layer1, w1) + b1        \n",
    "a2 = sigmoid(z2)\n",
    "\n",
    "z3 = np.dot(a2, w2) + b2             \n",
    "a3 = sigmoid(z3)\n",
    "\n",
    "z4 = np.dot(a3,w3) + b3               \n",
    "output = sigmoid(z4)\n",
    "\n",
    "# 8. Final prediction\n",
    "predicted_digit = np.argmax(output)\n",
    "print(\" Predicted Digit:\", predicted_digit)"
   ]
  }
 ],
 "metadata": {
  "kernelspec": {
   "display_name": "Python 3",
   "language": "python",
   "name": "python3"
  },
  "language_info": {
   "codemirror_mode": {
    "name": "ipython",
    "version": 3
   },
   "file_extension": ".py",
   "mimetype": "text/x-python",
   "name": "python",
   "nbconvert_exporter": "python",
   "pygments_lexer": "ipython3",
   "version": "3.11.9"
  }
 },
 "nbformat": 4,
 "nbformat_minor": 5
}
