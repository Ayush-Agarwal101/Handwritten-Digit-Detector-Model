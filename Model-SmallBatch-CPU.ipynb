{
 "cells": [
  {
   "cell_type": "markdown",
   "id": "8376b721",
   "metadata": {},
   "source": [
    "# Handwritten Digit Detector Model"
   ]
  },
  {
   "cell_type": "code",
   "execution_count": null,
   "id": "965eefd0",
   "metadata": {},
   "outputs": [],
   "source": [
    "# 📂 Dataset Download Link (Required to run this notebook):\n",
    "# https://www.kaggle.com/datasets/oddrationale/mnist-in-csv"
   ]
  },
  {
   "cell_type": "code",
   "execution_count": null,
   "id": "f76c887a",
   "metadata": {},
   "outputs": [],
   "source": [
    "# Uncomment the below line if running for the first time.\n",
    "# %pip install pandas numpy matplotlib pillow \n",
    "\n",
    "import pandas as pd\n",
    "import numpy as np\n",
    "%matplotlib inline\n",
    "import matplotlib.pyplot as plt\n",
    "from PIL import Image\n",
    "from IPython.display import display"
   ]
  },
  {
   "cell_type": "code",
   "execution_count": null,
   "id": "d5aad161-cff3-4338-a45f-38fff4460f6c",
   "metadata": {},
   "outputs": [],
   "source": [
    "#Functions\n",
    "def sigmoid(x):\n",
    "    return 1 / (1 + np.exp(-x))\n",
    "\n",
    "def sigmoid_derivative(z):\n",
    "    s = 1 / (1 + np.exp(-z))\n",
    "    return s * (1 - s)\n",
    "\n",
    "# Cost function or MSE (Mean Squared Error)\n",
    "def cost(output, target):\n",
    "    return np.mean(((output - target) ** 2)*0.5)"
   ]
  },
  {
   "cell_type": "code",
   "execution_count": 22,
   "id": "eb6c6f53",
   "metadata": {},
   "outputs": [],
   "source": [
    "# Layer Class\n",
    "class Layer:\n",
    "    def __init__(self, number, size):\n",
    "        self._number = number\n",
    "        self._size = size\n",
    "        self._data = None \n",
    "\n",
    "    @property\n",
    "    def number(self):\n",
    "        return self._number\n",
    "\n",
    "    @property\n",
    "    def size(self):\n",
    "        return self._size\n",
    "\n",
    "    @property\n",
    "    def data(self):\n",
    "        return self._data\n",
    "\n",
    "    @data.setter\n",
    "    def data(self, new_data):\n",
    "        if new_data.shape[1] == self._size:\n",
    "            self._data = new_data\n",
    "        else:\n",
    "            raise ValueError(\"Shape mismatch while setting layer data.\")"
   ]
  },
  {
   "cell_type": "code",
   "execution_count": 23,
   "id": "04b1badd",
   "metadata": {},
   "outputs": [],
   "source": [
    "# Weight Class\n",
    "class Weight:\n",
    "    def __init__(self, from_layer, to_layer):\n",
    "        self._value = np.random.randn(from_layer.size, to_layer.size).astype(np.float32)\n",
    "\n",
    "    @property\n",
    "    def value(self):\n",
    "        return self._value\n",
    "\n",
    "    @value.setter\n",
    "    def value(self, new_value):\n",
    "        if new_value.shape == self._value.shape:\n",
    "            self._value = new_value\n",
    "        else:\n",
    "            raise ValueError(\"Shape mismatch while setting weight value.\")"
   ]
  },
  {
   "cell_type": "code",
   "execution_count": 24,
   "id": "2df155c4",
   "metadata": {},
   "outputs": [],
   "source": [
    "# Bias Class\n",
    "class Bias:\n",
    "    def __init__(self, to_layer):\n",
    "        self._value = np.random.randn(1, to_layer.size).astype(np.float32)\n",
    "\n",
    "    @property\n",
    "    def value(self):\n",
    "        return self._value\n",
    "\n",
    "    @value.setter\n",
    "    def value(self, new_value):\n",
    "        if new_value.shape == self._value.shape:\n",
    "            self._value = new_value\n",
    "        else:\n",
    "            raise ValueError(\"Shape mismatch while setting bias value.\")"
   ]
  },
  {
   "cell_type": "code",
   "execution_count": 25,
   "id": "77b8f622-f894-4f3b-856e-05294c7e516b",
   "metadata": {},
   "outputs": [],
   "source": [
    "# Neural Network Class\n",
    "class Neural:\n",
    "    def __init__(self, activation, learning_rate=0.001):\n",
    "        self._activation = activation\n",
    "        self._learning_rate = learning_rate\n",
    "        self._layers = []\n",
    "        self._weights = []\n",
    "        self._biases = []\n",
    "        self._deltas = []\n",
    "        self._zs = []\n",
    "        self._djdw = []\n",
    "        self._djdb = []\n",
    "\n",
    "    def add_layer(self, layer):\n",
    "        self._layers.append(layer)\n",
    "        if len(self._layers) > 1:\n",
    "            self._weights.append(Weight(self._layers[-2], self._layers[-1]))\n",
    "            self._biases.append(Bias(self._layers[-1]))\n",
    "\n",
    "    def forward(self):\n",
    "        self._zs = [None] * len(self._layers)\n",
    "        for i in range(1, len(self._layers)):\n",
    "            prev_data = self._layers[i-1].data\n",
    "            w = self._weights[i-1].value\n",
    "            b = self._biases[i-1].value\n",
    "            z = np.dot(prev_data, w) + b\n",
    "            self._zs[i] = z\n",
    "            activated = self._activation(z)\n",
    "            self._layers[i].data = activated\n",
    "\n",
    "    @property\n",
    "    def output(self):\n",
    "        return self._layers[-1].data\n",
    "\n",
    "    @property\n",
    "    def delta(self):\n",
    "        return self._deltas\n",
    "\n",
    "    @delta.setter\n",
    "    def delta(self, target):\n",
    "        self._deltas = [None] * len(self._layers)\n",
    "        self._djdw = [None] * len(self._weights)\n",
    "        self._djdb = [None] * len(self._biases)\n",
    "\n",
    "        output = self._layers[-1].data\n",
    "        z_last = self._zs[-1]\n",
    "        if z_last is None:\n",
    "            raise ValueError(\"Last layer is None. Ensure forward() is called before setting delta.\")\n",
    "        self._deltas[-1] = (output - target) * sigmoid_derivative(z_last)\n",
    "\n",
    "        for i in range(len(self._layers) - 2, 0, -1):\n",
    "            next_w = self._weights[i].value\n",
    "            next_delta = self._deltas[i + 1]\n",
    "            z = self._zs[i]\n",
    "            self._deltas[i] = np.dot(next_delta, next_w.T) * sigmoid_derivative(z)\n",
    "\n",
    "        # djdw and djdb\n",
    "        for i in range(len(self._weights)):\n",
    "            a_prev = self._layers[i].data\n",
    "            delta_curr = self._deltas[i + 1]\n",
    "            self._djdw[i] = np.dot(a_prev.T, delta_curr)\n",
    "            self._djdb[i] = np.sum(delta_curr, axis=0, keepdims=True)\n",
    "    @property\n",
    "    def djdw(self):\n",
    "        return self._djdw\n",
    "\n",
    "    @property\n",
    "    def djdb(self):\n",
    "        return self._djdb\n",
    "\n",
    "    def update(self):\n",
    "        for i in range(len(self._weights)):\n",
    "            self._weights[i].value -= self._learning_rate * self._djdw[i]\n",
    "            self._biases[i].value -= self._learning_rate * self._djdb[i]\n",
    "            "
   ]
  },
  {
   "cell_type": "code",
   "execution_count": 26,
   "id": "e7f4d9bd",
   "metadata": {},
   "outputs": [],
   "source": [
    "# Load Dataset\n",
    "file_name = 'mnist_test.csv'\n",
    "df = pd.read_csv(file_name)\n",
    "\n",
    "labels = df['label'].values\n",
    "pixels = df.drop('label', axis=1).values.astype(np.uint8)"
   ]
  },
  {
   "cell_type": "code",
   "execution_count": 27,
   "id": "d5300875",
   "metadata": {},
   "outputs": [],
   "source": [
    "# Batch Input\n",
    "batch_size = int(input(\"Enter training batch size: \"))\n",
    "if batch_size <= 0:\n",
    "    raise ValueError(\"batch_size must be a positive integer.\")\n",
    "\n",
    "test_size = int(input(\"Enter testing batch size: \"))\n",
    "if test_size <= 0:\n",
    "    raise ValueError(\"test_size must be a positive integer.\")\n",
    "\n",
    "total_samples = len(labels)\n",
    "if batch_size + test_size > total_samples:\n",
    "    raise ValueError(\"batch_size + test_size exceeds total number of samples.\")\n",
    "\n",
    "idxs = list(range(batch_size))"
   ]
  },
  {
   "cell_type": "code",
   "execution_count": 28,
   "id": "96359345",
   "metadata": {},
   "outputs": [],
   "source": [
    "# # Uncomment if training size is small (like below 500) and want to display images also\n",
    "\n",
    "# # Display All Images\n",
    "# for idx in idxs:\n",
    "#     print(f\"{idx+1}. Label: {labels[idx]}\")\n",
    "#     display(Image.fromarray(pixels[idx].reshape(28, 28), mode='L'))"
   ]
  },
  {
   "cell_type": "code",
   "execution_count": 29,
   "id": "851c470d",
   "metadata": {},
   "outputs": [],
   "source": [
    "# Normalize and Prepare Input Batch\n",
    "images = pixels[idxs].astype(np.float32) / 255.0  \n",
    "targets = np.zeros((batch_size, 10), dtype=np.float32)    \n",
    "for i in range(batch_size):\n",
    "    targets[i, labels[idxs[i]]] = 1"
   ]
  },
  {
   "cell_type": "code",
   "execution_count": 30,
   "id": "5cf321fe",
   "metadata": {},
   "outputs": [],
   "source": [
    "# Initialise Network\n",
    "net = Neural(sigmoid)\n",
    "input_layer = Layer(1, 784)\n",
    "input_layer.data = images\n",
    "net.add_layer(input_layer)\n",
    "\n",
    "net.add_layer(Layer(2, 107))\n",
    "net.add_layer(Layer(3, 26))\n",
    "net.add_layer(Layer(4, 10))\n",
    "\n",
    "track_cost = []"
   ]
  },
  {
   "cell_type": "code",
   "execution_count": 31,
   "id": "d8b0d688",
   "metadata": {},
   "outputs": [
    {
     "name": "stdout",
     "output_type": "stream",
     "text": [
      "Training with 5000 samples...\n",
      "Round 1, Cost: 0.1748\n",
      "Round 25, Cost: 0.0447\n",
      "Round 50, Cost: 0.0398\n",
      "Round 75, Cost: 0.0351\n",
      "Round 100, Cost: 0.0312\n",
      "Round 125, Cost: 0.0281\n",
      "Round 150, Cost: 0.0255\n",
      "Round 175, Cost: 0.0228\n",
      "Round 200, Cost: 0.0203\n",
      "Round 225, Cost: 0.0185\n",
      "Round 250, Cost: 0.0170\n",
      "Round 275, Cost: 0.0159\n",
      "Round 300, Cost: 0.0149\n",
      "Round 325, Cost: 0.0140\n",
      "Round 350, Cost: 0.0133\n",
      "Round 375, Cost: 0.0127\n",
      "Round 400, Cost: 0.0121\n",
      "Round 425, Cost: 0.0116\n",
      "Round 450, Cost: 0.0111\n",
      "Round 475, Cost: 0.0106\n",
      "Round 499, Cost: 0.0102\n",
      "Round 500, Cost: 0.0102\n"
     ]
    }
   ],
   "source": [
    "# Training the Network\n",
    "print(f\"Training with {batch_size} samples...\")\n",
    "training_rounds = 500\n",
    "for i in range(training_rounds):\n",
    "    net.forward()\n",
    "\n",
    "    # Delta Calculation\n",
    "    net.delta = targets\n",
    "\n",
    "    # Update Weights and Biases\n",
    "    net.update()\n",
    "\n",
    "    # Track Cost\n",
    "    current_cost = cost(net.output, targets)\n",
    "    track_cost.append(current_cost)\n",
    "\n",
    "    # Print training progress every 25 rounds\n",
    "    if (i+1) % 25 == 0 or i == 0 or i == training_rounds - 2:\n",
    "        print(f\"Round {i+1}, Cost: {current_cost:.4f}\")"
   ]
  },
  {
   "cell_type": "code",
   "execution_count": null,
   "id": "dbc299c0",
   "metadata": {},
   "outputs": [],
   "source": [
    "# # For printing deltas, djdw, and djdb (Uncomment if training batch size is very low(less than 5 or 10) and want to see these values)\n",
    "\n",
    "# # Print Delta for each layer\n",
    "# print(\"Delta for each layer:\")\n",
    "# for i, d in enumerate(net.delta):\n",
    "#     if d is not None:\n",
    "#         print(f\"Layer {i} Delta:\\n{d}\\n\")\n",
    "\n",
    "# # Print dJdW\n",
    "# print(\"dJdW Calculation:\")\n",
    "# for i, grad in enumerate(net.djdw):\n",
    "#     print(f\"dJ/dW for Layer {i} → {i+1}:\\n{grad}\\n\")\n",
    "\n",
    "# # Print dJdB\n",
    "# print(\"dJdB Calculation:\")\n",
    "# for i, grad in enumerate(net.djdb):\n",
    "#     print(f\"dJ/db for Layer {i} → {i+1}:\\n{grad}\\n\")"
   ]
  },
  {
   "cell_type": "code",
   "execution_count": 33,
   "id": "10626b01",
   "metadata": {},
   "outputs": [
    {
     "data": {
      "image/png": "[encoded data removed]",
      "text/plain": [
       "<Figure size 640x480 with 1 Axes>"
      ]
     },
     "metadata": {},
     "output_type": "display_data"
    }
   ],
   "source": [
    "# Plotting the Cost Function\n",
    "plt.plot(range(training_rounds),track_cost)\n",
    "plt.xlabel('Training Rounds')\n",
    "plt.ylabel('Cost')\n",
    "plt.title('Cost vs Training Rounds')\n",
    "plt.grid(True)\n",
    "plt.show()"
   ]
  },
  {
   "cell_type": "code",
   "execution_count": null,
   "id": "d953372d",
   "metadata": {},
   "outputs": [],
   "source": [
    "# # Uncomment below lines to see predicted digits and actual digits after training (only if batch size is small)\n",
    "# # Predicted Digits\n",
    "# predictions = np.argmax(net.output, axis=1)\n",
    "# print(\"Predicted Digits: \\n\", predictions)\n",
    "\n",
    "# # Actual Digits/Labels\n",
    "# actual_labels = np.argmax(targets, axis=1)\n",
    "# print(\"Actual Digits:\\n\", actual_labels)\n"
   ]
  },
  {
   "cell_type": "code",
   "execution_count": 35,
   "id": "a5f6c9a8-a855-490f-bf1a-2a0f54cf0dcd",
   "metadata": {},
   "outputs": [
    {
     "name": "stdout",
     "output_type": "stream",
     "text": [
      "Final Cost after training:  0.01021336\n"
     ]
    }
   ],
   "source": [
    "# Final Forward Pass\n",
    "net.forward()\n",
    "\n",
    "# Final Cost\n",
    "final_cost = cost(net.output, targets)\n",
    "print(\"Final Cost after training: \", final_cost)\n"
   ]
  },
  {
   "cell_type": "code",
   "execution_count": 36,
   "id": "aefe80e9",
   "metadata": {},
   "outputs": [
    {
     "name": "stdout",
     "output_type": "stream",
     "text": [
      "Testing with 3000 samples...\n"
     ]
    }
   ],
   "source": [
    "# Testing The Network\n",
    "print(f\"Testing with {test_size} samples...\")\n",
    "test_idxs = list(range(batch_size, batch_size + test_size))\n",
    "test_images = pixels[test_idxs].astype(np.float32) / 255.0\n",
    "test_labels = labels[test_idxs]\n",
    "\n",
    "# Set input layer data to batch images\n",
    "input_layer.data = test_images\n",
    "\n",
    "# Forward pass\n",
    "net.forward()\n",
    "\n",
    "# Get predictions\n",
    "test_predictions = np.argmax(net.output, axis=1)"
   ]
  },
  {
   "cell_type": "code",
   "execution_count": null,
   "id": "d0ca1ccb",
   "metadata": {},
   "outputs": [],
   "source": [
    "# # Predictions vs Actual Digits (Uncomment if want to see and test size is not too large)\n",
    "\n",
    "# print(f\"Predictions for test images from {batch_size} to {batch_size + test_size}:\\n\", test_predictions)\n",
    "# print(f\"Actual digits:\\n\", test_labels)"
   ]
  },
  {
   "cell_type": "code",
   "execution_count": 38,
   "id": "8323cf47",
   "metadata": {},
   "outputs": [
    {
     "name": "stdout",
     "output_type": "stream",
     "text": [
      "Model accuracy on this batch: 83.17%\n"
     ]
    }
   ],
   "source": [
    "# Calculate accuracy\n",
    "accuracy = np.mean(test_predictions == test_labels) * 100\n",
    "print(f\"Model accuracy on this batch: {accuracy:.2f}%\")"
   ]
  }
 ],
 "metadata": {
  "kernelspec": {
   "display_name": "Python 3",
   "language": "python",
   "name": "python3"
  },
  "language_info": {
   "codemirror_mode": {
    "name": "ipython",
    "version": 3
   },
   "file_extension": ".py",
   "mimetype": "text/x-python",
   "name": "python",
   "nbconvert_exporter": "python",
   "pygments_lexer": "ipython3",
   "version": "3.11.9"
  }
 },
 "nbformat": 4,
 "nbformat_minor": 5
}
